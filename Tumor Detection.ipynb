{
  "nbformat": 4,
  "nbformat_minor": 0,
  "metadata": {
    "kernelspec": {
      "display_name": "Python 3",
      "language": "python",
      "name": "python3"
    },
    "language_info": {
      "codemirror_mode": {
        "name": "ipython",
        "version": 3
      },
      "file_extension": ".py",
      "mimetype": "text/x-python",
      "name": "python",
      "nbconvert_exporter": "python",
      "pygments_lexer": "ipython3",
      "version": "3.6.12"
    },
    "colab": {
      "name": "assignment.ipynb",
      "provenance": [],
      "toc_visible": true
    },
    "accelerator": "GPU"
  },
  "cells": [
    {
      "cell_type": "markdown",
      "metadata": {
        "id": "DxkYrN9CM03T"
      },
      "source": [
        "# Assignment\n",
        "\n",
        "In this assignment we will train a convolutional neural network (CNN) to detect brain tumors from MR imaging data. For each 2D slice of data, four different input channels (four different MR imaging sequences) will be used for a global classification task of detection tumor presence.\n",
        "\n",
        "This assignment is part of the class **Introduction to Deep Learning for Medical Imaging** at University of California Irvine (CS190); more information can be found: https://github.com/peterchang77/dl_tutor/tree/master/cs190."
      ]
    },
    {
      "cell_type": "markdown",
      "metadata": {
        "id": "NES13aH6M03Z"
      },
      "source": [
        "### Submission\n",
        "\n",
        "Once complete, the following items must be submitted:\n",
        "\n",
        "* final `*.ipynb` notebook\n",
        "* final trained `*.hdf5` model file\n",
        "* final compiled `*.csv` file with performance statistics"
      ]
    },
    {
      "cell_type": "markdown",
      "metadata": {
        "id": "56d3oMiMw8Wm"
      },
      "source": [
        "# Google Colab\n",
        "\n",
        "The following lines of code will configure your Google Colab environment for this assignment."
      ]
    },
    {
      "cell_type": "markdown",
      "metadata": {
        "id": "vQ7SUGuTM03Z"
      },
      "source": [
        "### Enable GPU runtime\n",
        "\n",
        "Use the following instructions to switch the default Colab instance into a GPU-enabled runtime:\n",
        "\n",
        "```\n",
        "Runtime > Change runtime type > Hardware accelerator > GPU\n",
        "```"
      ]
    },
    {
      "cell_type": "markdown",
      "metadata": {
        "id": "w13ceY-9M03a"
      },
      "source": [
        "# Environment"
      ]
    },
    {
      "cell_type": "markdown",
      "metadata": {
        "id": "GrYbITtkM03a"
      },
      "source": [
        "### Jarvis library\n",
        "\n",
        "In this notebook we will Jarvis, a custom Python package to facilitate data science and deep learning for healthcare. Among other things, this library will be used for low-level data management, stratification and visualization of high-dimensional medical data."
      ]
    },
    {
      "cell_type": "code",
      "metadata": {
        "id": "9CxporMzM03a",
        "outputId": "0890e7dd-da1a-4a92-d179-934a303b55b4",
        "colab": {
          "base_uri": "https://localhost:8080/"
        }
      },
      "source": [
        "# --- Install jarvis (only in Google Colab or local runtime)\n",
        "% pip install jarvis-md"
      ],
      "execution_count": 1,
      "outputs": [
        {
          "output_type": "stream",
          "text": [
            "Requirement already satisfied: jarvis-md in /usr/local/lib/python3.7/dist-packages (0.0.1a13)\n",
            "Requirement already satisfied: matplotlib in /usr/local/lib/python3.7/dist-packages (from jarvis-md) (3.2.2)\n",
            "Requirement already satisfied: h5py in /usr/local/lib/python3.7/dist-packages (from jarvis-md) (2.10.0)\n",
            "Requirement already satisfied: requests in /usr/local/lib/python3.7/dist-packages (from jarvis-md) (2.23.0)\n",
            "Requirement already satisfied: numpy in /usr/local/lib/python3.7/dist-packages (from jarvis-md) (1.19.5)\n",
            "Requirement already satisfied: pyyaml>=5.2 in /usr/local/lib/python3.7/dist-packages (from jarvis-md) (5.4.1)\n",
            "Requirement already satisfied: pandas in /usr/local/lib/python3.7/dist-packages (from jarvis-md) (1.1.5)\n",
            "Requirement already satisfied: scipy in /usr/local/lib/python3.7/dist-packages (from jarvis-md) (1.4.1)\n",
            "Requirement already satisfied: cycler>=0.10 in /usr/local/lib/python3.7/dist-packages (from matplotlib->jarvis-md) (0.10.0)\n",
            "Requirement already satisfied: kiwisolver>=1.0.1 in /usr/local/lib/python3.7/dist-packages (from matplotlib->jarvis-md) (1.3.1)\n",
            "Requirement already satisfied: python-dateutil>=2.1 in /usr/local/lib/python3.7/dist-packages (from matplotlib->jarvis-md) (2.8.1)\n",
            "Requirement already satisfied: pyparsing!=2.0.4,!=2.1.2,!=2.1.6,>=2.0.1 in /usr/local/lib/python3.7/dist-packages (from matplotlib->jarvis-md) (2.4.7)\n",
            "Requirement already satisfied: six in /usr/local/lib/python3.7/dist-packages (from h5py->jarvis-md) (1.15.0)\n",
            "Requirement already satisfied: chardet<4,>=3.0.2 in /usr/local/lib/python3.7/dist-packages (from requests->jarvis-md) (3.0.4)\n",
            "Requirement already satisfied: certifi>=2017.4.17 in /usr/local/lib/python3.7/dist-packages (from requests->jarvis-md) (2020.12.5)\n",
            "Requirement already satisfied: urllib3!=1.25.0,!=1.25.1,<1.26,>=1.21.1 in /usr/local/lib/python3.7/dist-packages (from requests->jarvis-md) (1.24.3)\n",
            "Requirement already satisfied: idna<3,>=2.5 in /usr/local/lib/python3.7/dist-packages (from requests->jarvis-md) (2.10)\n",
            "Requirement already satisfied: pytz>=2017.2 in /usr/local/lib/python3.7/dist-packages (from pandas->jarvis-md) (2018.9)\n"
          ],
          "name": "stdout"
        }
      ]
    },
    {
      "cell_type": "markdown",
      "metadata": {
        "id": "B-SF21ybM03c"
      },
      "source": [
        "### Imports\n",
        "\n",
        "Use the following lines to import any additional needed libraries:"
      ]
    },
    {
      "cell_type": "code",
      "metadata": {
        "id": "CEzewfRdM03c"
      },
      "source": [
        "import os, numpy as np, pandas as pd\n",
        "from tensorflow import losses, optimizers\n",
        "from tensorflow.keras import Input, Model, models, layers\n",
        "from jarvis.train import datasets"
      ],
      "execution_count": 2,
      "outputs": []
    },
    {
      "cell_type": "markdown",
      "metadata": {
        "id": "waLv3LUQM03c"
      },
      "source": [
        "# Data\n",
        "\n",
        "The data used in this assignemnt will consist of brain tumor MRI exams derived from the MICCAI Brain Tumor Segmentation Challenge (BRaTS). More information about he BRaTS Challenge can be found here: http://braintumorsegmentation.org/. Each single 2D slice will consist of one of four different sequences (T2, FLAIR, T1 pre-contrast and T1 post-contrast). In this assignment, we will use this dataset to derive a model for slice-by-slice tumor detection.  The following lines of code will:\n",
        "\n",
        "1. Download the dataset (if not already present) \n",
        "2. Prepare the necessary Python generators to iterate through dataset\n",
        "3. Prepare the corresponding Tensorflow Input(...) objects for model definition"
      ]
    },
    {
      "cell_type": "code",
      "metadata": {
        "id": "O1Xg1riKM03d"
      },
      "source": [
        "# --- Download dataset\n",
        "datasets.download(name='mr/brats-2020-mip')\n",
        "\n",
        "# --- Prepare generators and model inputs\n",
        "gen_train, gen_valid, client = datasets.prepare(name='mr/brats-2020-mip', keyword='mip*glb')\n",
        "inputs = client.get_inputs(Input)"
      ],
      "execution_count": 3,
      "outputs": []
    },
    {
      "cell_type": "markdown",
      "metadata": {
        "id": "gAr8hLuRM03d"
      },
      "source": [
        "# Training\n",
        "\n",
        "In this assignment we will train a basic convolutional neural network to predict the correct imaging series protocol on prostate MRI. At minumum you must include one of the following modern CNN architecture motifs techniques covered in the tutorial:\n",
        "\n",
        "* residual function with bottleneck operation\n",
        "* Inception module\n",
        "* squeeze-and-excitation module\n",
        "\n",
        "You are also **encouraged** to try different permuations and customizations to achieve optimal validation accuracy."
      ]
    },
    {
      "cell_type": "markdown",
      "metadata": {
        "id": "ra4Hw6F0M03d"
      },
      "source": [
        "### Define the model"
      ]
    },
    {
      "cell_type": "code",
      "metadata": {
        "id": "CAdigB2eM03d"
      },
      "source": [
        "# --- Define model\n",
        "# --- Define kwargs dictionary\n",
        "kwargs = {\n",
        "    'kernel_size': (1, 3, 3),\n",
        "    'padding': 'same'}\n",
        "\n",
        "# --- Define lambda functions\n",
        "conv = lambda x, filters, strides : layers.Conv3D(filters=filters, strides=strides, **kwargs)(x)\n",
        "norm = lambda x : layers.BatchNormalization()(x)\n",
        "relu = lambda x : layers.ReLU()(x)\n",
        "\n",
        "# --- Define stride-1, stride-2 blocks\n",
        "conv1 = lambda filters, x : relu(norm(conv(x, filters, strides=1)))\n",
        "conv2 = lambda filters, x : relu(norm(conv(x, filters, strides=(1, 2, 2))))\n",
        "# --- Define projection\n",
        "\n",
        "proj = lambda filters, x : layers.Conv3D(\n",
        "    filters=filters, \n",
        "    strides=1, \n",
        "    kernel_size=(1, 1, 1),\n",
        "    padding='same')(x)\n",
        "\n",
        "# --- Define bottleneck conv-conv block\n",
        "l1 = conv2(32, inputs['dat'])\n",
        "p1 = layers.GlobalAveragePooling3D()(l1)\n",
        "\n",
        "# --- Excitation (reduce channels to 1 / R) ==> in this example set R = 4 arbitrarily\n",
        "ch = int(p1.shape[-1] / 4)\n",
        "f1 = layers.Dense(ch, activation='relu')(p1)\n",
        "\n",
        "# --- Scale (expand channels to original size)\n",
        "scale = layers.Dense(l1.shape[-1], activation='sigmoid')(f1)\n",
        "scale = layers.Reshape((1, 1, 1, l1.shape[-1]))(scale)    \n",
        "\n",
        "# --- Modify l1\n",
        "l1 = l1 * scale\n",
        "l2 = proj(48, conv2(8, proj(8, l1)))\n",
        "# --- Define third block with residual connection\n",
        "# l3 = conv1(32, l2) + proj(32, l1)\n",
        "\n",
        "# --- Create model\n",
        "# --- Extract shape and reshape\n",
        "n0, n1, c = l2.shape[-3:]\n",
        "f0 = layers.Reshape([-1, 1, 1, n0 * n1 * c])(l2)\n",
        "\n",
        "logits = {}\n",
        "logits['tumor'] = layers.Conv3D(filters=2, kernel_size=1, name='tumor')(f0)\n",
        "\n",
        "model = Model(inputs=inputs, outputs=logits)"
      ],
      "execution_count": 4,
      "outputs": []
    },
    {
      "cell_type": "markdown",
      "metadata": {
        "id": "N47IezcuM03e"
      },
      "source": [
        "### Compile the model"
      ]
    },
    {
      "cell_type": "code",
      "metadata": {
        "id": "q186hT51M03e"
      },
      "source": [
        "# --- Compile model\n",
        "\n",
        "model.compile(\n",
        "    optimizer=optimizers.Adam(learning_rate=2e-4), \n",
        "    loss={'tumor': losses.SparseCategoricalCrossentropy(from_logits=True)}, \n",
        "    metrics={'tumor': 'sparse_categorical_accuracy'})\n"
      ],
      "execution_count": 5,
      "outputs": []
    },
    {
      "cell_type": "markdown",
      "metadata": {
        "id": "Rxg1P9SJmKoc"
      },
      "source": [
        "# New Section"
      ]
    },
    {
      "cell_type": "markdown",
      "metadata": {
        "id": "LSmJApdUM03e"
      },
      "source": [
        "### In-memory data\n",
        "\n",
        "To speed up training, consider loading all your model data into RAM memory:"
      ]
    },
    {
      "cell_type": "code",
      "metadata": {
        "id": "QTUIPjw7M03e",
        "outputId": "1a2102ff-3ce9-4305-c14a-6ea0d63d989f",
        "colab": {
          "base_uri": "https://localhost:8080/"
        }
      },
      "source": [
        "# --- Load data into memory for faster training\n",
        "client.load_data_in_memory()"
      ],
      "execution_count": 6,
      "outputs": [
        {
          "output_type": "stream",
          "text": [
            "[ 2021-04-26 23:51:42 ] [====================] 100.000% : Iterating | 000368    "
          ],
          "name": "stdout"
        }
      ]
    },
    {
      "cell_type": "markdown",
      "metadata": {
        "id": "obUSXjtGM03e"
      },
      "source": [
        "### Train the model"
      ]
    },
    {
      "cell_type": "code",
      "metadata": {
        "id": "FtJkJQn3M03f",
        "outputId": "2e3dbd50-71e8-4abc-fd33-02a50166fa86",
        "colab": {
          "base_uri": "https://localhost:8080/"
        }
      },
      "source": [
        "model.fit(\n",
        "    x=gen_train, \n",
        "    steps_per_epoch=175, \n",
        "    epochs=10,\n",
        "    validation_data=gen_valid,\n",
        "    validation_steps=125,\n",
        "    validation_freq=3)"
      ],
      "execution_count": 7,
      "outputs": [
        {
          "output_type": "stream",
          "text": [
            "Epoch 1/10\n",
            "175/175 [==============================] - 51s 125ms/step - loss: 0.8373 - sparse_categorical_accuracy: 0.7065\n",
            "Epoch 2/10\n",
            "175/175 [==============================] - 22s 125ms/step - loss: 0.4551 - sparse_categorical_accuracy: 0.8147\n",
            "Epoch 3/10\n",
            "175/175 [==============================] - 37s 214ms/step - loss: 0.4841 - sparse_categorical_accuracy: 0.8109 - val_loss: 0.4446 - val_sparse_categorical_accuracy: 0.8080\n",
            "Epoch 4/10\n",
            "175/175 [==============================] - 22s 125ms/step - loss: 0.3721 - sparse_categorical_accuracy: 0.8347\n",
            "Epoch 5/10\n",
            "175/175 [==============================] - 22s 125ms/step - loss: 0.3953 - sparse_categorical_accuracy: 0.8371\n",
            "Epoch 6/10\n",
            "175/175 [==============================] - 37s 211ms/step - loss: 0.3681 - sparse_categorical_accuracy: 0.8502 - val_loss: 0.5488 - val_sparse_categorical_accuracy: 0.8040\n",
            "Epoch 7/10\n",
            "175/175 [==============================] - 22s 126ms/step - loss: 0.3599 - sparse_categorical_accuracy: 0.8439\n",
            "Epoch 8/10\n",
            "175/175 [==============================] - 22s 125ms/step - loss: 0.3763 - sparse_categorical_accuracy: 0.8532\n",
            "Epoch 9/10\n",
            "175/175 [==============================] - 37s 212ms/step - loss: 0.3371 - sparse_categorical_accuracy: 0.8740 - val_loss: 0.4747 - val_sparse_categorical_accuracy: 0.8240\n",
            "Epoch 10/10\n",
            "175/175 [==============================] - 22s 125ms/step - loss: 0.2573 - sparse_categorical_accuracy: 0.8892\n"
          ],
          "name": "stdout"
        },
        {
          "output_type": "execute_result",
          "data": {
            "text/plain": [
              "<tensorflow.python.keras.callbacks.History at 0x7fef64d0c510>"
            ]
          },
          "metadata": {
            "tags": []
          },
          "execution_count": 7
        }
      ]
    },
    {
      "cell_type": "markdown",
      "metadata": {
        "id": "_McC_mjPM03f"
      },
      "source": [
        "# Evaluation\n",
        "\n",
        "Based on the tutorial discussion, use the following cells to check your algorithm performance. Consider loading a saved model and running prediction using `model.predict(...)` on the data aggregated via a test generator.\n",
        "\n",
        "**Important**: In this assignment, you must obtain >75% performance accuracy to recieve full credit. Accuracy is determined on slice-by-slice performance accuracy as demonstrated in the tutorial; please refer to tutorial materials if you have questions."
      ]
    },
    {
      "cell_type": "code",
      "metadata": {
        "id": "Vf_qbnyDM03f",
        "outputId": "0bc02da1-a37d-4953-ddec-d27d5d440679",
        "colab": {
          "base_uri": "https://localhost:8080/"
        }
      },
      "source": [
        "# --- Create validation generator\n",
        "test_train, test_valid = client.create_generators(test=True, expand=True)\n",
        "\n",
        "trues = []\n",
        "preds = []\n",
        "\n",
        "for x, y in test_valid:\n",
        "    \n",
        "    # --- Predict\n",
        "    logits = model.predict(x['dat'])\n",
        "\n",
        "    if type(logits) is dict:\n",
        "        logits = logits['tumor']\n",
        "\n",
        "    # --- Argmax\n",
        "    pred = np.squeeze(np.argmax(logits, axis=-1))\n",
        "\n",
        "    trues.append(y['tumor'].ravel())\n",
        "    preds.append(pred.ravel())\n",
        "\n",
        "trues = np.concatenate(trues)\n",
        "preds = np.concatenate(preds)"
      ],
      "execution_count": 8,
      "outputs": [
        {
          "output_type": "stream",
          "text": [
            "[ 2021-04-26 23:57:27 ] [====================] 100.000% : Iterating | 000074    "
          ],
          "name": "stdout"
        }
      ]
    },
    {
      "cell_type": "code",
      "metadata": {
        "id": "tQyfs23pQ4-5",
        "outputId": "27a70207-f5ff-46f0-a5b2-a9e3bf66b26d",
        "colab": {
          "base_uri": "https://localhost:8080/"
        }
      },
      "source": [
        "# --- Create DataFrame\n",
        "df = pd.DataFrame(index=np.arange(preds.size))\n",
        "\n",
        "# --- Define columns\n",
        "df['true'] = trues\n",
        "df['pred'] = preds\n",
        "df['corr'] = df['true'] == df['pred']\n",
        "\n",
        "# --- Print accuracy\n",
        "print(df['corr'].mean())"
      ],
      "execution_count": 9,
      "outputs": [
        {
          "output_type": "stream",
          "text": [
            "0.8410226270937409\n"
          ],
          "name": "stdout"
        }
      ]
    },
    {
      "cell_type": "markdown",
      "metadata": {
        "id": "qLTuM65kM03f"
      },
      "source": [
        "**Note**: this cell is used only to check for model performance prior to submission. It will not be graded. Once submitted, your model will be benchmarked against the (same) validation cohort to determine final algorithm performance and grade. If your evaluation code above is correct the algorithm accuracy should match and you can be confident that you will recieve full credit for the assignment. Once you are satisfied with your model, proceed to submission of your assignment below."
      ]
    },
    {
      "cell_type": "markdown",
      "metadata": {
        "id": "e4hRpTQoM03g"
      },
      "source": [
        "### Results\n",
        "\n",
        "When ready, create a `*.csv` file with your compiled **validation** cohort statistics. There is no need to submit training performance accuracy. As in the tutorial, ensure that there are at least three columns in the `*.csv` file:\n",
        "\n",
        "* true (ground-truth)\n",
        "* pred (prediction)\n",
        "* corr (correction prediction, True or False)"
      ]
    },
    {
      "cell_type": "code",
      "metadata": {
        "id": "cqMgeasxM03h"
      },
      "source": [
        "os.makedirs(os.path.dirname('./'), exist_ok=True)\n",
        "df.to_csv('./Fnaghman_cnn.csv')"
      ],
      "execution_count": 11,
      "outputs": []
    },
    {
      "cell_type": "markdown",
      "metadata": {
        "id": "_yr1D_yaM03h"
      },
      "source": [
        "# Submission\n",
        "\n",
        "Use the following line to save your model for submission (in Google Colab this should save your model file into your personal Google Drive):"
      ]
    },
    {
      "cell_type": "code",
      "metadata": {
        "id": "rtzhlKq2M03i"
      },
      "source": [
        "# --- Serialize a model\n",
        "fname = './Fnaghman_model.hdf5'\n",
        "model.save(fname)"
      ],
      "execution_count": 12,
      "outputs": []
    },
    {
      "cell_type": "markdown",
      "metadata": {
        "id": "E1L2zTQbM03i"
      },
      "source": [
        "### Canvas\n",
        "\n",
        "Once you have completed this assignment, download the necessary files from Google Colab and your Google Drive. You will then need to submit the following items:\n",
        "\n",
        "* final (completed) notebook: `[UCInetID]_assignment.ipynb`\n",
        "* final (results) spreadsheet: `[UCInetID]_results.csv`\n",
        "* final (trained) model: `[UCInetID]_model.hdf5`\n",
        "\n",
        "**Important**: please submit all your files prefixed with your UCInetID as listed above. Your UCInetID is the part of your UCI email address that comes before `@uci.edu`. For example, Peter Anteater has an email address of panteater@uci.edu, so his notebooke file would be submitted under the name `panteater_notebook.ipynb`, his spreadshhet would be submitted under the name `panteater_results.csv` and and his model file would be submitted under the name `panteater_model.hdf5`."
      ]
    },
    {
      "cell_type": "code",
      "metadata": {
        "id": "eK1OUAfKn_I_",
        "outputId": "c94b4faa-643c-4a15-daa1-fa7421ffa880",
        "colab": {
          "base_uri": "https://localhost:8080/"
        }
      },
      "source": [
        "from google.colab import drive\n",
        "drive.mount('/content/drive')"
      ],
      "execution_count": 13,
      "outputs": [
        {
          "output_type": "stream",
          "text": [
            "Mounted at /content/drive\n"
          ],
          "name": "stdout"
        }
      ]
    },
    {
      "cell_type": "code",
      "metadata": {
        "id": "sPe2MD62oADN"
      },
      "source": [
        ""
      ],
      "execution_count": null,
      "outputs": []
    }
  ]
}